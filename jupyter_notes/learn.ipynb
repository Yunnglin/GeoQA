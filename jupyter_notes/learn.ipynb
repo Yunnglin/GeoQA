{
 "metadata": {
  "language_info": {
   "codemirror_mode": {
    "name": "ipython",
    "version": 3
   },
   "file_extension": ".py",
   "mimetype": "text/x-python",
   "name": "python",
   "nbconvert_exporter": "python",
   "pygments_lexer": "ipython3",
   "version": "3.8.5-final"
  },
  "orig_nbformat": 2,
  "kernelspec": {
   "name": "python3",
   "language": "python",
   "display_name": "Python 3"
  }
 },
 "nbformat": 4,
 "nbformat_minor": 2,
 "cells": [
  {
   "cell_type": "code",
   "execution_count": 1,
   "metadata": {
    "pycharm": {
     "is_executing": false
    }
   },
   "outputs": [],
   "source": [
    "import torch\n",
    "import numpy as np"
   ]
  },
  {
   "cell_type": "code",
   "execution_count": 2,
   "metadata": {
    "pycharm": {
     "is_executing": false
    }
   },
   "outputs": [
    {
     "name": "stdout",
     "text": [
      "tensor([[1, 2],\n",
      "        [3, 4]])\n"
     ],
     "output_type": "stream"
    }
   ],
   "source": [
    "#  通过数据直接创建tensor\n",
    "data = [[1,2],[3,4]]\n",
    "x_data = torch.tensor(data) \n",
    "print(x_data)"
   ]
  },
  {
   "cell_type": "code",
   "execution_count": 4,
   "metadata": {},
   "outputs": [
    {
     "output_type": "stream",
     "name": "stdout",
     "text": [
      "tensor([[1, 2],\n        [3, 4]], dtype=torch.int32)\n"
     ]
    }
   ],
   "source": [
    "# 从numpy array创建\n",
    "np_array = np.array(data)\n",
    "x_np = torch.from_numpy(np_array)\n",
    "print(x_np)"
   ]
  },
  {
   "source": [
    "# 从另一个tensor创建\n",
    "# The new tensor retains the properties (shape, datatype) of the argument tensor, unless explicitly overridden.\n",
    "x_ones = torch.ones_like(x_data)\n",
    "print(f\"Ones Tensor: \\n {x_ones} \\n\")\n",
    "x_rand = torch.rand_like(x_data, dtype = torch.float)\n",
    "print(f\"Random Tensor: \\n {x_rand} \\n\")"
   ],
   "cell_type": "code",
   "metadata": {},
   "execution_count": null,
   "outputs": []
  },
  {
   "cell_type": "code",
   "execution_count": 14,
   "metadata": {},
   "outputs": [
    {
     "output_type": "stream",
     "name": "stdout",
     "text": [
      "Random Tensor: \n tensor([[[0.1064, 0.1743, 0.8710, 0.9019],\n         [0.9750, 0.8121, 0.2988, 0.0415],\n         [0.0418, 0.0978, 0.2077, 0.6544]],\n\n        [[0.6603, 0.6116, 0.8551, 0.6024],\n         [0.6580, 0.3880, 0.3977, 0.2277],\n         [0.3908, 0.4841, 0.1865, 0.6562]]]) \n\nOnes Tensor: \n tensor([[[1., 1., 1., 1.],\n         [1., 1., 1., 1.],\n         [1., 1., 1., 1.]],\n\n        [[1., 1., 1., 1.],\n         [1., 1., 1., 1.],\n         [1., 1., 1., 1.]]]) \n\nZeros Tensor: \n tensor([[[0., 0., 0., 0.],\n         [0., 0., 0., 0.],\n         [0., 0., 0., 0.]],\n\n        [[0., 0., 0., 0.],\n         [0., 0., 0., 0.],\n         [0., 0., 0., 0.]]])\n"
     ]
    }
   ],
   "source": [
    "# 使用tuple创建shape\n",
    "shape = (2,3,4)\n",
    "rand_tensor = torch.rand(shape)\n",
    "ones_tensor = torch.ones(shape)\n",
    "zeros_tensor = torch.zeros(shape)\n",
    "\n",
    "print(f\"Random Tensor: \\n {rand_tensor} \\n\")\n",
    "print(f\"Ones Tensor: \\n {ones_tensor} \\n\")\n",
    "print(f\"Zeros Tensor: \\n {zeros_tensor}\")"
   ]
  },
  {
   "cell_type": "code",
   "execution_count": 17,
   "metadata": {},
   "outputs": [
    {
     "output_type": "stream",
     "name": "stdout",
     "text": [
      "Shape of tensor: torch.Size([3, 4])\nDatatype of tensor: torch.float32\nDevice tensor is stored on: cpu\n"
     ]
    }
   ],
   "source": [
    "# tensor属性\n",
    "tensor = torch.rand(3,4)\n",
    "\n",
    "print(f\"Shape of tensor: {tensor.shape}\")\n",
    "print(f\"Datatype of tensor: {tensor.dtype}\")\n",
    "print(f\"Device tensor is stored on: {tensor.device}\")"
   ]
  },
  {
   "cell_type": "code",
   "execution_count": 30,
   "metadata": {},
   "outputs": [
    {
     "output_type": "stream",
     "name": "stdout",
     "text": [
      "Device tensor is stored on: cuda:0\ntensor([[1., 1., 1., 1.],\n        [0., 0., 0., 0.],\n        [1., 1., 1., 1.],\n        [1., 1., 1., 1.]])\ntensor([[1., 1., 1., 1., 1., 1., 1., 1., 1., 1., 1., 1.],\n        [0., 0., 0., 0., 0., 0., 0., 0., 0., 0., 0., 0.],\n        [1., 1., 1., 1., 1., 1., 1., 1., 1., 1., 1., 1.],\n        [1., 1., 1., 1., 1., 1., 1., 1., 1., 1., 1., 1.]])\ntensor([[[1., 1., 1., 1.],\n         [0., 0., 0., 0.],\n         [1., 1., 1., 1.],\n         [1., 1., 1., 1.]],\n\n        [[1., 1., 1., 1.],\n         [0., 0., 0., 0.],\n         [1., 1., 1., 1.],\n         [1., 1., 1., 1.]],\n\n        [[1., 1., 1., 1.],\n         [0., 0., 0., 0.],\n         [1., 1., 1., 1.],\n         [1., 1., 1., 1.]]])\n"
     ]
    }
   ],
   "source": [
    "# tensor操作\n",
    "# move to gpu\n",
    "if torch.cuda.is_available():\n",
    "    tensor = tensor.to('cuda')\n",
    "print(f\"Device tensor is stored on: {tensor.device}\")\n",
    "\n",
    "# indexing and slicing\n",
    "tensor2 = torch.ones(4,4)\n",
    "tensor2[1,:] = 0\n",
    "print(tensor2)\n",
    "\n",
    "# joining\n",
    "t1 = torch.cat([tensor2,tensor2,tensor2],dim=1)\n",
    "print(t1)\n",
    "t2 = torch.stack([tensor2,tensor2,tensor2])\n",
    "print(t2)"
   ]
  },
  {
   "cell_type": "code",
   "execution_count": 38,
   "metadata": {},
   "outputs": [
    {
     "output_type": "stream",
     "name": "stdout",
     "text": [
      "tensor.mul(tensor) \n tensor([[4., 4., 4., 4.],\n        [4., 4., 4., 4.],\n        [4., 4., 4., 4.]]) \n\ntensor * tensor \n tensor([[4., 4., 4., 4.],\n        [4., 4., 4., 4.],\n        [4., 4., 4., 4.]])\ntensor.matmul(tensor.T) \n tensor([[16., 16., 16.],\n        [16., 16., 16.],\n        [16., 16., 16.]]) \n\ntensor @ tensor.T \n tensor([[16., 16., 16.],\n        [16., 16., 16.],\n        [16., 16., 16.]])\n"
     ]
    }
   ],
   "source": [
    "# multiplying\n",
    "tensor = torch.ones(3,4)\n",
    "tensor.add_(1) # same as tensor = tensor.add(1)\n",
    "# This computes the element-wise product\n",
    "print(f\"tensor.mul(tensor) \\n {tensor.mul(tensor)} \\n\")\n",
    "# Alternative syntax:\n",
    "print(f\"tensor * tensor \\n {tensor * tensor}\")\n",
    "\n",
    "# matrix multiplication\n",
    "print(f\"tensor.matmul(tensor.T) \\n {tensor.matmul(tensor.T)} \\n\")\n",
    "# Alternative syntax:\n",
    "print(f\"tensor @ tensor.T \\n {tensor @ tensor.T}\")"
   ]
  },
  {
   "source": [
    "In-place operations Operations that have a `_` suffix are in-place. For example: `x.copy_(y)`,`x.t_()`, will change x.\n",
    "\n",
    "``` python\n",
    "print(tensor, \"\\n\")\n",
    "tensor.add_(5)\n",
    "print(tensor)\n",
    "```\n",
    "In-place operations save some memory, but can be problematic when computing derivatives because of an immediate loss of history. Hence, their use is **discouraged**."
   ],
   "cell_type": "markdown",
   "metadata": {}
  },
  {
   "cell_type": "code",
   "execution_count": 43,
   "metadata": {},
   "outputs": [
    {
     "output_type": "stream",
     "name": "stdout",
     "text": [
      "99 780.3353715419314\n",
      "199 551.3968662605379\n",
      "299 390.5363077941849\n",
      "399 277.4613555084525\n",
      "499 197.94507586710486\n",
      "599 142.00678350438346\n",
      "699 102.64117522383577\n",
      "799 74.92898723177007\n",
      "899 55.41425445079917\n",
      "999 41.667993961099356\n",
      "1099 31.982332416210035\n",
      "1199 25.155964142828108\n",
      "1299 20.343592723935906\n",
      "1399 16.950222896747366\n",
      "1499 14.556908039225975\n",
      "1599 12.868570252649317\n",
      "1699 11.6773165012622\n",
      "1799 10.8366388002139\n",
      "1899 10.243262454996058\n",
      "1999 9.824370709217721\n",
      "2099 9.528610379274836\n",
      "2199 9.31975748113959\n",
      "2299 9.172254870450834\n",
      "2399 9.068067782558664\n",
      "2499 8.994467468342075\n",
      "2599 8.942468610978167\n",
      "2699 8.905727416484439\n",
      "2799 8.879764394673913\n",
      "2899 8.861416044191742\n",
      "2999 8.848447950874926\n",
      "Result: y = 0.005877409399576431 + 0.8560882048823306 x + -0.0010139509219414923 x^2 + -0.09323755694108793 x^3\n"
     ]
    }
   ],
   "source": [
    "# 使用numpy来模拟学习过程\n",
    "# 下述过程使用多项式来近似 sin(x)\n",
    "\n",
    "# -*- coding: utf-8 -*-\n",
    "import numpy as np\n",
    "import math\n",
    "\n",
    "# Create random input and output data\n",
    "x = np.linspace(-math.pi, math.pi, 2000)\n",
    "y = np.sin(x)\n",
    "\n",
    "# Randomly initialize weights\n",
    "a = np.random.randn()\n",
    "b = np.random.randn()\n",
    "c = np.random.randn()\n",
    "d = np.random.randn()\n",
    "\n",
    "learning_rate = 1e-6\n",
    "for t in range(3000):\n",
    "    # Forward pass: compute predicted y\n",
    "    # y = a + b x + c x^2 + d x^3\n",
    "    y_pred = a + b * x + c * x ** 2 + d * x ** 3\n",
    "\n",
    "    # Compute and print loss\n",
    "    loss = np.square(y_pred - y).sum()\n",
    "    if t % 100 == 99:\n",
    "        print(t, loss)\n",
    "\n",
    "    # Backprop to compute gradients of a, b, c, d with respect to loss\n",
    "    grad_y_pred = 2.0 * (y_pred - y)\n",
    "    grad_a = grad_y_pred.sum()\n",
    "    grad_b = (grad_y_pred * x).sum()\n",
    "    grad_c = (grad_y_pred * x ** 2).sum()\n",
    "    grad_d = (grad_y_pred * x ** 3).sum()\n",
    "\n",
    "    # Update weights\n",
    "    a -= learning_rate * grad_a\n",
    "    b -= learning_rate * grad_b\n",
    "    c -= learning_rate * grad_c\n",
    "    d -= learning_rate * grad_d\n",
    "\n",
    "print(f'Result: y = {a} + {b} x + {c} x^2 + {d} x^3')"
   ]
  },
  {
   "cell_type": "code",
   "execution_count": 44,
   "metadata": {},
   "outputs": [
    {
     "output_type": "stream",
     "name": "stdout",
     "text": [
      "99 3471.304443359375\n",
      "199 2302.429443359375\n",
      "299 1528.328857421875\n",
      "399 1015.61865234375\n",
      "499 675.9971313476562\n",
      "599 451.0034484863281\n",
      "699 301.9302978515625\n",
      "799 203.14588928222656\n",
      "899 137.67608642578125\n",
      "999 94.27933502197266\n",
      "1099 65.5089111328125\n",
      "1199 46.43180847167969\n",
      "1299 33.77994918823242\n",
      "1399 25.387434005737305\n",
      "1499 19.819406509399414\n",
      "1599 16.124330520629883\n",
      "1699 13.671597480773926\n",
      "1799 12.043139457702637\n",
      "1899 10.961652755737305\n",
      "1999 10.243196487426758\n",
      "2099 9.765792846679688\n",
      "2199 9.44846248626709\n",
      "2299 9.237438201904297\n",
      "2399 9.097077369689941\n",
      "2499 9.003673553466797\n",
      "2599 8.941495895385742\n",
      "2699 8.900087356567383\n",
      "2799 8.872504234313965\n",
      "2899 8.854113578796387\n",
      "2999 8.841851234436035\n",
      "Result: y = 0.0020751410629600286 + 0.8523032069206238 x + -0.0003579975164029747 x^2 + -0.09269917756319046 x^3\n"
     ]
    }
   ],
   "source": [
    "# 使用pytorch的tensor进行计算\n",
    "# -*- coding: utf-8 -*-\n",
    "\n",
    "import torch\n",
    "import math\n",
    "\n",
    "\n",
    "dtype = torch.float\n",
    "device = torch.device(\"cpu\")\n",
    "# device = torch.device(\"cuda:0\") # Uncomment this to run on GPU\n",
    "\n",
    "# Create random input and output data\n",
    "x = torch.linspace(-math.pi, math.pi, 2000, device=device, dtype=dtype)\n",
    "y = torch.sin(x)\n",
    "\n",
    "# Randomly initialize weights\n",
    "a = torch.randn((), device=device, dtype=dtype)\n",
    "b = torch.randn((), device=device, dtype=dtype)\n",
    "c = torch.randn((), device=device, dtype=dtype)\n",
    "d = torch.randn((), device=device, dtype=dtype)\n",
    "\n",
    "learning_rate = 1e-6\n",
    "for t in range(3000):\n",
    "    # Forward pass: compute predicted y\n",
    "    y_pred = a + b * x + c * x ** 2 + d * x ** 3\n",
    "\n",
    "    # Compute and print loss\n",
    "    loss = (y_pred - y).pow(2).sum().item()\n",
    "    if t % 100 == 99:\n",
    "        print(t, loss)\n",
    "\n",
    "    # Backprop to compute gradients of a, b, c, d with respect to loss\n",
    "    grad_y_pred = 2.0 * (y_pred - y)\n",
    "    grad_a = grad_y_pred.sum()\n",
    "    grad_b = (grad_y_pred * x).sum()\n",
    "    grad_c = (grad_y_pred * x ** 2).sum()\n",
    "    grad_d = (grad_y_pred * x ** 3).sum()\n",
    "\n",
    "    # Update weights using gradient descent\n",
    "    a -= learning_rate * grad_a\n",
    "    b -= learning_rate * grad_b\n",
    "    c -= learning_rate * grad_c\n",
    "    d -= learning_rate * grad_d\n",
    "\n",
    "\n",
    "print(f'Result: y = {a.item()} + {b.item()} x + {c.item()} x^2 + {d.item()} x^3')"
   ]
  },
  {
   "cell_type": "code",
   "execution_count": 48,
   "metadata": {},
   "outputs": [
    {
     "output_type": "stream",
     "name": "stdout",
     "text": [
      "99 1885.426513671875\n",
      "199 1286.76904296875\n",
      "299 880.0772094726562\n",
      "399 603.4884643554688\n",
      "499 415.1712646484375\n",
      "599 286.8084716796875\n",
      "699 199.21282958984375\n",
      "799 139.36834716796875\n",
      "899 98.43614196777344\n",
      "999 70.40735626220703\n",
      "1099 51.19224166870117\n",
      "1199 38.00436019897461\n",
      "1299 28.94273567199707\n",
      "1399 22.709415435791016\n",
      "1499 18.41684913635254\n",
      "1599 15.457529067993164\n",
      "1699 13.415144920349121\n",
      "1799 12.004087448120117\n",
      "1899 11.028197288513184\n",
      "1999 10.352581977844238\n",
      "Result: y = -0.035404909402132034 + 0.8368995189666748 x + 0.006107935216277838 x^2 + -0.09050813317298889 x^3\n"
     ]
    }
   ],
   "source": [
    "# 使用autograd\n",
    "# -*- coding: utf-8 -*-\n",
    "import torch\n",
    "import math\n",
    "\n",
    "dtype = torch.float\n",
    "device = torch.device(\"cpu\")\n",
    "# device = torch.device(\"cuda:0\")  # Uncomment this to run on GPU\n",
    "\n",
    "# Create Tensors to hold input and outputs.\n",
    "# By default, requires_grad=False, which indicates that we do not need to\n",
    "# compute gradients with respect to these Tensors during the backward pass.\n",
    "x = torch.linspace(-math.pi, math.pi, 2000, device=device, dtype=dtype)\n",
    "y = torch.sin(x)\n",
    "\n",
    "# Create random Tensors for weights. For a third order polynomial, we need\n",
    "# 4 weights: y = a + b x + c x^2 + d x^3\n",
    "# Setting requires_grad=True indicates that we want to compute gradients with\n",
    "# respect to these Tensors during the backward pass.\n",
    "a = torch.randn((), device=device, dtype=dtype, requires_grad=True)\n",
    "b = torch.randn((), device=device, dtype=dtype, requires_grad=True)\n",
    "c = torch.randn((), device=device, dtype=dtype, requires_grad=True)\n",
    "d = torch.randn((), device=device, dtype=dtype, requires_grad=True)\n",
    "\n",
    "learning_rate = 1e-6\n",
    "for t in range(2000):\n",
    "    # Forward pass: compute predicted y using operations on Tensors.\n",
    "    y_pred = a + b * x + c * x ** 2 + d * x ** 3\n",
    "\n",
    "    # Compute and print loss using operations on Tensors.\n",
    "    # Now loss is a Tensor of shape (1,)\n",
    "    # loss.item() gets the scalar value held in the loss.\n",
    "    loss = (y_pred - y).pow(2).sum()\n",
    "    if t % 100 == 99:\n",
    "        print(t, loss.item())\n",
    "\n",
    "    # Use autograd to compute the backward pass. This call will compute the\n",
    "    # gradient of loss with respect to all Tensors with requires_grad=True.\n",
    "    # After this call a.grad, b.grad. c.grad and d.grad will be Tensors holding\n",
    "    # the gradient of the loss with respect to a, b, c, d respectively.\n",
    "    loss.backward()\n",
    "\n",
    "    # Manually update weights using gradient descent. Wrap in torch.no_grad()\n",
    "    # because weights have requires_grad=True, but we don't need to track this\n",
    "    # in autograd.\n",
    "    with torch.no_grad():\n",
    "        a -= learning_rate * a.grad\n",
    "        b -= learning_rate * b.grad\n",
    "        c -= learning_rate * c.grad\n",
    "        d -= learning_rate * d.grad\n",
    "\n",
    "        # Manually zero the gradients after updating weights\n",
    "        a.grad = None\n",
    "        b.grad = None\n",
    "        c.grad = None\n",
    "        d.grad = None\n",
    "\n",
    "print(f'Result: y = {a.item()} + {b.item()} x + {c.item()} x^2 + {d.item()} x^3')"
   ]
  },
  {
   "cell_type": "code",
   "execution_count": 53,
   "metadata": {},
   "outputs": [
    {
     "output_type": "stream",
     "name": "stdout",
     "text": [
      "99 1161.61376953125\n",
      "199 772.2823486328125\n",
      "299 514.4922485351562\n",
      "399 343.7847900390625\n",
      "499 230.73208618164062\n",
      "599 155.8538055419922\n",
      "699 106.25416564941406\n",
      "799 73.3952865600586\n",
      "899 51.62413787841797\n",
      "999 37.19732666015625\n",
      "1099 27.635988235473633\n",
      "1199 21.29822540283203\n",
      "1299 17.096500396728516\n",
      "1399 14.310474395751953\n",
      "1499 12.462748527526855\n",
      "1599 11.237119674682617\n",
      "1699 10.423955917358398\n",
      "1799 9.884320259094238\n",
      "1899 9.526121139526367\n",
      "1999 9.288300514221191\n",
      "Result: y = 0.006312811281532049 + 0.8364532589912415 x + -0.0010890649864450097 x^2 + -0.0904446542263031 x^3\n"
     ]
    }
   ],
   "source": [
    "# 使用nn module\n",
    "# -*- coding: utf-8 -*-\n",
    "import torch\n",
    "import math\n",
    "\n",
    "\n",
    "# Create Tensors to hold input and outputs.\n",
    "x = torch.linspace(-math.pi, math.pi, 2000)\n",
    "y = torch.sin(x)\n",
    "\n",
    "# For this example, the output y is a linear function of (x, x^2, x^3), so\n",
    "# we can consider it as a linear layer neural network. Let's prepare the\n",
    "# tensor (x, x^2, x^3).\n",
    "p = torch.tensor([1, 2, 3])\n",
    "xx = x.unsqueeze(-1).pow(p)\n",
    "\n",
    "# In the above code, x.unsqueeze(-1) has shape (2000, 1), and p has shape\n",
    "# (3,), for this case, broadcasting semantics will apply to obtain a tensor\n",
    "# of shape (2000, 3) \n",
    "\n",
    "# Use the nn package to define our model as a sequence of layers. nn.Sequential\n",
    "# is a Module which contains other Modules, and applies them in sequence to\n",
    "# produce its output. The Linear Module computes output from input using a\n",
    "# linear function, and holds internal Tensors for its weight and bias.\n",
    "# The Flatten layer flatens the output of the linear layer to a 1D tensor,\n",
    "# to match the shape of `y`.\n",
    "model = torch.nn.Sequential(\n",
    "    torch.nn.Linear(3, 1),\n",
    "    torch.nn.Flatten(0, 1)\n",
    ")\n",
    "\n",
    "# The nn package also contains definitions of popular loss functions; in this\n",
    "# case we will use Mean Squared Error (MSE) as our loss function.\n",
    "loss_fn = torch.nn.MSELoss(reduction='sum')\n",
    "\n",
    "learning_rate = 1e-6\n",
    "for t in range(2000):\n",
    "\n",
    "    # Forward pass: compute predicted y by passing x to the model. Module objects\n",
    "    # override the __call__ operator so you can call them like functions. When\n",
    "    # doing so you pass a Tensor of input data to the Module and it produces\n",
    "    # a Tensor of output data.\n",
    "    y_pred = model(xx)\n",
    "\n",
    "    # Compute and print loss. We pass Tensors containing the predicted and true\n",
    "    # values of y, and the loss function returns a Tensor containing the\n",
    "    # loss.\n",
    "    loss = loss_fn(y_pred, y)\n",
    "    if t % 100 == 99:\n",
    "        print(t, loss.item())\n",
    "\n",
    "    # Zero the gradients before running the backward pass.\n",
    "    model.zero_grad()\n",
    "\n",
    "    # Backward pass: compute gradient of the loss with respect to all the learnable\n",
    "    # parameters of the model. Internally, the parameters of each Module are stored\n",
    "    # in Tensors with requires_grad=True, so this call will compute gradients for\n",
    "    # all learnable parameters in the model.\n",
    "    loss.backward()\n",
    "\n",
    "    # Update the weights using gradient descent. Each parameter is a Tensor, so\n",
    "    # we can access its gradients like we did before.\n",
    "    with torch.no_grad():\n",
    "        for param in model.parameters():\n",
    "            param -= learning_rate * param.grad\n",
    "\n",
    "# You can access the first layer of `model` like accessing the first item of a list\n",
    "linear_layer = model[0]\n",
    "\n",
    "# For linear layer, its parameters are stored as `weight` and `bias`.\n",
    "print(f'Result: y = {linear_layer.bias.item()} + {linear_layer.weight[:, 0].item()} x + {linear_layer.weight[:, 1].item()} x^2 + {linear_layer.weight[:, 2].item()} x^3')"
   ]
  },
  {
   "cell_type": "code",
   "execution_count": 54,
   "metadata": {},
   "outputs": [
    {
     "output_type": "stream",
     "name": "stdout",
     "text": [
      "99 16626.0546875\n",
      "199 6515.5634765625\n",
      "299 2559.4296875\n",
      "399 1367.1279296875\n",
      "499 1103.1568603515625\n",
      "599 963.4591064453125\n",
      "699 813.9025268554688\n",
      "799 663.8603515625\n",
      "899 524.9379272460938\n",
      "999 402.435302734375\n",
      "1099 298.0370178222656\n",
      "1199 211.72714233398438\n",
      "1299 142.79522705078125\n",
      "1399 90.22856140136719\n",
      "1499 52.73708724975586\n",
      "1599 29.484756469726562\n",
      "1699 15.626887321472168\n",
      "1799 10.28799057006836\n",
      "1899 8.992877960205078\n",
      "1999 8.91797924041748\n",
      "Result: y = -0.0005292326677590609 + 0.8545901775360107 x + -0.0005292874993756413 x^2 + -0.09359170496463776 x^3\n"
     ]
    }
   ],
   "source": [
    "# user optimizer\n",
    "# -*- coding: utf-8 -*-\n",
    "import torch\n",
    "import math\n",
    "\n",
    "\n",
    "# Create Tensors to hold input and outputs.\n",
    "x = torch.linspace(-math.pi, math.pi, 2000)\n",
    "y = torch.sin(x)\n",
    "\n",
    "# Prepare the input tensor (x, x^2, x^3).\n",
    "p = torch.tensor([1, 2, 3])\n",
    "xx = x.unsqueeze(-1).pow(p)\n",
    "\n",
    "# Use the nn package to define our model and loss function.\n",
    "model = torch.nn.Sequential(\n",
    "    torch.nn.Linear(3, 1),\n",
    "    torch.nn.Flatten(0, 1)\n",
    ")\n",
    "loss_fn = torch.nn.MSELoss(reduction='sum')\n",
    "\n",
    "# Use the optim package to define an Optimizer that will update the weights of\n",
    "# the model for us. Here we will use RMSprop; the optim package contains many other\n",
    "# optimization algorithms. The first argument to the RMSprop constructor tells the\n",
    "# optimizer which Tensors it should update.\n",
    "learning_rate = 1e-3\n",
    "optimizer = torch.optim.RMSprop(model.parameters(), lr=learning_rate)\n",
    "for t in range(2000):\n",
    "    # Forward pass: compute predicted y by passing x to the model.\n",
    "    y_pred = model(xx)\n",
    "\n",
    "    # Compute and print loss.\n",
    "    loss = loss_fn(y_pred, y)\n",
    "    if t % 100 == 99:\n",
    "        print(t, loss.item())\n",
    "\n",
    "    # Before the backward pass, use the optimizer object to zero all of the\n",
    "    # gradients for the variables it will update (which are the learnable\n",
    "    # weights of the model). This is because by default, gradients are\n",
    "    # accumulated in buffers( i.e, not overwritten) whenever .backward()\n",
    "    # is called. Checkout docs of torch.autograd.backward for more details.\n",
    "    optimizer.zero_grad()\n",
    "\n",
    "    # Backward pass: compute gradient of the loss with respect to model\n",
    "    # parameters\n",
    "    loss.backward()\n",
    "\n",
    "    # Calling the step function on an Optimizer makes an update to its\n",
    "    # parameters\n",
    "    optimizer.step()\n",
    "\n",
    "\n",
    "linear_layer = model[0]\n",
    "print(f'Result: y = {linear_layer.bias.item()} + {linear_layer.weight[:, 0].item()} x + {linear_layer.weight[:, 1].item()} x^2 + {linear_layer.weight[:, 2].item()} x^3')"
   ]
  }
 ]
}